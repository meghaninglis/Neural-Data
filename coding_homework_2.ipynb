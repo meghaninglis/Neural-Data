{
  "nbformat": 4,
  "nbformat_minor": 0,
  "metadata": {
    "colab": {
      "provenance": [],
      "include_colab_link": true
    },
    "kernelspec": {
      "name": "python3",
      "display_name": "Python 3"
    },
    "language_info": {
      "name": "python"
    }
  },
  "cells": [
    {
      "cell_type": "markdown",
      "metadata": {
        "id": "view-in-github",
        "colab_type": "text"
      },
      "source": [
        "<a href=\"https://colab.research.google.com/github/meghaninglis/Neural-Data/blob/main/coding_homework_2.ipynb\" target=\"_parent\"><img src=\"https://colab.research.google.com/assets/colab-badge.svg\" alt=\"Open In Colab\"/></a>"
      ]
    },
    {
      "cell_type": "markdown",
      "source": [
        "# Coding Homework #2\n",
        "\n",
        "**Instructions:**\n",
        "\n",
        "1. Make a *Markdown Cell* that contains the following information:\n",
        "- Your name (small header)\n",
        "- The name of this class (italicized)\n",
        "- The date (bolded)\n",
        "\n",
        "2. Make a *Code Cell* that imports <code>numpy</code> as <code>np</code>, <code>matplotlib.pyplot</code> as <code>plt</code>, <code>statistics</code> as <code>st</code>.\n",
        "\n",
        "3. Make a *Code Cell* that imports your <code>v_rest1.csv</code> and <code>v_rest2.csv</code> files as <code>numpy</code> arrays called <code>v_rest1</code> and <code>v_rest2</code> respectively. You're used to doing this with the <code>pd.read_csv</code> function for <code>pandas</code>, but can accomplish the same thing using the <code>np.loadtxt</code> function for <code>numpy</code>.\n",
        "\n",
        "4. Make a *Code Cell* that concatenates <code>v_rest1</code> and <code>v_rest2</code> into a matrix with 2 rows and 13 columns named <code>v_rest</code>.\n",
        "\n",
        "5. Make a *Code Cell* that prints the <code>size</code> of <code>v_rest</code>.\n",
        "\n",
        "6. Make a *Code Cell* that returns the first row of <code>v_rest</code>.\n",
        "\n",
        "7. Make a *Code Cell* that returns the sum of the values in the third column of <code>v_rest</code>. You can accomplish this by using <code>v_rest[].sum()</code>, with your index inside of the brackets. As an example, if I wanted to return the sum of the first row of <code>v_rest</code>, I could use <code>v_rest[0].sum()</code> to get my answer.\n",
        "\n",
        "8. Make a *Code Cell* that returns the second-to-last value in the second row of <code>v_rest</code> (use negative indexing for the column value).\n",
        "\n",
        "9. Create a *Code Cell* that makes a histogram of the values in the first row of <code>v_rest</code> (you can do this by using the <code>plt.hist()</code> function). Label your axes.\n",
        "\n",
        "10. Create a *Code Cell* that takes the mean of the values in the first row of <code>v_rest</code>, and assigns the mean to a variable called <code>v_rest_mean_1</code>. Do the same thing for the second row of <code>v_rest</code>, and assign the mean value of the second row to a variable called <code>v_rest_mean_2</code>. You can get the means by using the <code>st.mean()</code> function (remember to put what you want the mean *of* inside the parentheses of the function).\n",
        "\n",
        "11. Create a *Markdown Cell* that describes the difference in means between the two rows. Which one is bigger?\n",
        "\n",
        "12. How can we test whether the difference in means is *meaningful* (statistically significant)? When we're comparing two means, we can use a t-test (assuming the data are normally distributed). To use a t-test on our data, we will first need to import the <code>scipy</code> package. Create a new *Code Cell* that runs the following:\n",
        "\n",
        "<code>\n",
        "import scipy.stats as stats\n",
        "</code>\n",
        "\n",
        "13. Now, we can perform a t-test on the two rows of <code>v_rest</code>. To do this, create a new *Code Cell* that uses the <code>stats.ttest_ind()</code> function - for example:\n",
        "\n",
        "<code>\n",
        "stats.ttest_ind(row1, row2)\n",
        "</code>\n",
        "\n",
        "Replace <code>row1</code> and <code>row2</code> in this case with the first and second rows, respectively, of <code>v_rest</code>.\n",
        "\n",
        "14. Make a *Markdown Cell* that describes the results of your t-test. You should have <code>statistic</code> variable and a <code>pvalue</code> variable. The way to interpret your p-value is as a probability - specifically, the probability that the mean of one distribution could be found in the second distribution. Typically, results are considered to be \"statistically significant\" if the probability is lower than 5% - or 0.05. What is your p-value? Based on this p-value, do you think it is likely that the means are significantly different, or do you think it is likely that they are not?\n",
        "\n",
        "15. Make sure to add at least one line with a <code>#</code> in front of it to each *Code Cell* to describe what each cell does.\n",
        "\n",
        "16. Save a copy of this notebook to your GitHub repo with the title \"coding_homework_2.ipynb\"."
      ],
      "metadata": {
        "id": "CXEcCBSA_prs"
      }
    },
    {
      "cell_type": "markdown",
      "source": [],
      "metadata": {
        "id": "tSgOcj2AVLLH"
      }
    },
    {
      "cell_type": "markdown",
      "source": [
        "##Meghan Inglis##\n",
        "_Neural Data Analysis_\n",
        "\n",
        "__February 22, 2023__"
      ],
      "metadata": {
        "id": "zX6XeCTgaCL_"
      }
    },
    {
      "cell_type": "code",
      "source": [
        "#Make a Code Cell that imports numpy as np, matplotlib.pyplot as plt, statistics as st\n",
        "import numpy as np\n",
        "import matplotlib.pyplot as plt\n",
        "import statistics as st"
      ],
      "metadata": {
        "id": "fL2iFVAYVP-E"
      },
      "execution_count": 1,
      "outputs": []
    },
    {
      "cell_type": "code",
      "source": [
        "#Make a Code Cell that imports your v_rest1.csv file as numpy array called v_rest1\n",
        "url = 'https://docs.google.com/spreadsheets/d/e/2PACX-1vR4Vvbonf-G7YcgUA0i2OYdS6mUBpMlCV7cmiYRWWZsbbMgoHe2boJNPr_SnNGQAMkoYWmkKnj1AU1i/pub?gid=1202262583&single=true&output=csv'\n",
        "v_rest1 = np.loadtxt(url)\n",
        "v_rest1"
      ],
      "metadata": {
        "colab": {
          "base_uri": "https://localhost:8080/"
        },
        "id": "05ms-grSVUjn",
        "outputId": "086531dc-57ad-497b-8303-f30ffd12a905"
      },
      "execution_count": 5,
      "outputs": [
        {
          "output_type": "execute_result",
          "data": {
            "text/plain": [
              "array([-76.26886368, -78.61490909, -68.16424769, -75.32285817,\n",
              "       -74.45781222, -68.39161246, -74.03092839, -70.11987972,\n",
              "       -73.67137527, -75.02154694, -74.73023415, -71.16996929,\n",
              "       -79.50984251])"
            ]
          },
          "metadata": {},
          "execution_count": 5
        }
      ]
    },
    {
      "cell_type": "code",
      "source": [
        "#Make a Code Cell that imports your v_rest2.csv file as numpy array called v_rest2\n",
        "url = 'https://docs.google.com/spreadsheets/d/e/2PACX-1vR-2cnSXYaFbNwVg-9NVbzMW5ZoaTFgZLbT0nywKctIoLChhSGDxQs5mzMe0NrNUlzkqQwTwmq-2A-r/pub?gid=1376355555&single=true&output=csv'\n",
        "v_rest2 = np.loadtxt(url)\n",
        "v_rest2"
      ],
      "metadata": {
        "colab": {
          "base_uri": "https://localhost:8080/"
        },
        "id": "XQ7nrZAed9mV",
        "outputId": "7be3cc92-a10b-455b-f114-ad73c44dbd06"
      },
      "execution_count": 6,
      "outputs": [
        {
          "output_type": "execute_result",
          "data": {
            "text/plain": [
              "array([-74.42471137, -69.29408646, -73.39719322, -63.17958903,\n",
              "       -70.05915298, -63.62581277, -59.94950104, -78.94838356,\n",
              "       -71.66541227, -75.53541107, -62.60052079, -68.79848938,\n",
              "       -72.4118042 ])"
            ]
          },
          "metadata": {},
          "execution_count": 6
        }
      ]
    },
    {
      "cell_type": "code",
      "source": [
        "#Make a Code Cell that concatenates v_rest1 and v_rest2 into a matrix with 2 rows and 13 columns named v_rest\n",
        "v_rest = np.array([v_rest1,v_rest2])\n",
        "print(v_rest)\n",
        "\n",
        "\n",
        "#checking 2 by 13\n",
        "print(v_rest.shape)"
      ],
      "metadata": {
        "colab": {
          "base_uri": "https://localhost:8080/"
        },
        "id": "J_vV3_VQVX_f",
        "outputId": "300dff56-03d6-4663-fc30-91a02672e2df"
      },
      "execution_count": 18,
      "outputs": [
        {
          "output_type": "stream",
          "name": "stdout",
          "text": [
            "[[-76.26886368 -78.61490909 -68.16424769 -75.32285817 -74.45781222\n",
            "  -68.39161246 -74.03092839 -70.11987972 -73.67137527 -75.02154694\n",
            "  -74.73023415 -71.16996929 -79.50984251]\n",
            " [-74.42471137 -69.29408646 -73.39719322 -63.17958903 -70.05915298\n",
            "  -63.62581277 -59.94950104 -78.94838356 -71.66541227 -75.53541107\n",
            "  -62.60052079 -68.79848938 -72.4118042 ]]\n",
            "(2, 13)\n"
          ]
        }
      ]
    },
    {
      "cell_type": "code",
      "source": [
        "#Make a Code Cell that prints the size of v_rest\n",
        "print(v_rest.size)"
      ],
      "metadata": {
        "colab": {
          "base_uri": "https://localhost:8080/"
        },
        "id": "dY7yFqe6Vbo4",
        "outputId": "b5cd3532-c257-448a-866a-abf3e758dda9"
      },
      "execution_count": 13,
      "outputs": [
        {
          "output_type": "stream",
          "name": "stdout",
          "text": [
            "26\n"
          ]
        }
      ]
    },
    {
      "cell_type": "code",
      "source": [
        "#Make a Code Cell that returns the first row of v_rest\n",
        "v_rest[0]"
      ],
      "metadata": {
        "colab": {
          "base_uri": "https://localhost:8080/"
        },
        "id": "A3fSRIejVgcb",
        "outputId": "3531c91f-a5db-4e81-9fe8-7ce6e9535645"
      },
      "execution_count": 19,
      "outputs": [
        {
          "output_type": "execute_result",
          "data": {
            "text/plain": [
              "array([-76.26886368, -78.61490909, -68.16424769, -75.32285817,\n",
              "       -74.45781222, -68.39161246, -74.03092839, -70.11987972,\n",
              "       -73.67137527, -75.02154694, -74.73023415, -71.16996929,\n",
              "       -79.50984251])"
            ]
          },
          "metadata": {},
          "execution_count": 19
        }
      ]
    },
    {
      "cell_type": "code",
      "source": [
        "#Make a Code Cell that returns the sum of the values in the third column of v_rest\n",
        "v_rest[0,2] + v_rest[1,2].sum()\n"
      ],
      "metadata": {
        "colab": {
          "base_uri": "https://localhost:8080/"
        },
        "id": "trQhFp3eVjBG",
        "outputId": "2d2af318-bc16-4ebb-f08b-c04e01fb973c"
      },
      "execution_count": 27,
      "outputs": [
        {
          "output_type": "execute_result",
          "data": {
            "text/plain": [
              "-141.56144091"
            ]
          },
          "metadata": {},
          "execution_count": 27
        }
      ]
    },
    {
      "cell_type": "code",
      "source": [
        "#Make a Code Cell that returns the second-to-last value in the second row of v_rest\n",
        "print(v_rest[1,-2])"
      ],
      "metadata": {
        "colab": {
          "base_uri": "https://localhost:8080/"
        },
        "id": "QJuKM8mCVmPO",
        "outputId": "f32b8862-8dca-46bc-f1f1-166f636129c3"
      },
      "execution_count": 29,
      "outputs": [
        {
          "output_type": "stream",
          "name": "stdout",
          "text": [
            "-68.79848938\n"
          ]
        }
      ]
    },
    {
      "cell_type": "code",
      "source": [
        "#Making a histogram and labeling axis\n",
        "plt.hist(v_rest)\n",
        "plt.xlabel('Resting Membrane Potential')\n",
        "plt.ylabel('Count')"
      ],
      "metadata": {
        "colab": {
          "base_uri": "https://localhost:8080/",
          "height": 297
        },
        "id": "7zRTdPg3iu5d",
        "outputId": "98d4240b-be68-4b5c-9257-2d9f676520b4"
      },
      "execution_count": 32,
      "outputs": [
        {
          "output_type": "execute_result",
          "data": {
            "text/plain": [
              "Text(0, 0.5, 'Count')"
            ]
          },
          "metadata": {},
          "execution_count": 32
        },
        {
          "output_type": "display_data",
          "data": {
            "text/plain": [
              "<Figure size 432x288 with 1 Axes>"
            ],
            "image/png": "[encoded data removed]"
          },
          "metadata": {
            "needs_background": "light"
          }
        }
      ]
    },
    {
      "cell_type": "code",
      "source": [
        "#Create a Code Cell that takes the mean of the values in the first row of v_rest, and assigns the mean to a variable called v_rest_mean_1. Do the same thing for the second row of v_rest, and assign the mean value of the second row to a variable called v_rest_mean_2\n",
        "\n",
        "v_rest_mean_1 = st.mean(v_rest1)\n",
        "print(v_rest_mean_1)\n",
        "\n",
        "v_rest_mean_2 = st.mean(v_rest2)\n",
        "print(v_rest_mean_2)"
      ],
      "metadata": {
        "colab": {
          "base_uri": "https://localhost:8080/"
        },
        "id": "kNG_3cUSVqP-",
        "outputId": "d6b5c2e0-139a-431a-8722-f0510f5b487a"
      },
      "execution_count": 34,
      "outputs": [
        {
          "output_type": "stream",
          "name": "stdout",
          "text": [
            "-73.80569842923077\n",
            "-69.53000524153846\n"
          ]
        }
      ]
    },
    {
      "cell_type": "markdown",
      "source": [
        "The mean of the second row is about 4.3 greater than the mean of the first row.  This suggests v_rest2 is a bigger mean than v_rest1. "
      ],
      "metadata": {
        "id": "8_J9H6V5VxY4"
      }
    },
    {
      "cell_type": "code",
      "source": [
        "#Create a new Code Cell that runs the following:\n",
        "\n",
        "import scipy.stats as stats"
      ],
      "metadata": {
        "id": "GSFwmyOWVqHx"
      },
      "execution_count": 35,
      "outputs": []
    },
    {
      "cell_type": "code",
      "source": [
        "#Perform a t-test on the two rows of v_rest\n",
        "stats.ttest_ind(v_rest[0], v_rest[1])"
      ],
      "metadata": {
        "colab": {
          "base_uri": "https://localhost:8080/"
        },
        "id": "0ZXUs8fAV2TX",
        "outputId": "42026e3e-f15d-4ebe-8622-801918c12d64"
      },
      "execution_count": 40,
      "outputs": [
        {
          "output_type": "execute_result",
          "data": {
            "text/plain": [
              "Ttest_indResult(statistic=-2.29611195449735, pvalue=0.03070512313772225)"
            ]
          },
          "metadata": {},
          "execution_count": 40
        }
      ]
    },
    {
      "cell_type": "markdown",
      "source": [
        "The t-test returned a p-value of around 0.031 which is less than the 0.05 benchmark suggesting a statistical significance.  This low p-value leads me to believe that there is a significant difference between the means. \n",
        "\n"
      ],
      "metadata": {
        "id": "dZ1rQpa2V_TB"
      }
    }
  ]
}
{
  "nbformat": 4,
  "nbformat_minor": 0,
  "metadata": {
    "colab": {
      "provenance": [],
      "include_colab_link": true
    },
    "kernelspec": {
      "name": "python3",
      "display_name": "Python 3"
    },
    "language_info": {
      "name": "python"
    }
  },
  "cells": [
    {
      "cell_type": "markdown",
      "metadata": {
        "id": "view-in-github",
        "colab_type": "text"
      },
      "source": [
        "<a href=\"https://colab.research.google.com/github/meghaninglis/Neural-Data/blob/main/coding_homework_3_finished.ipynb\" target=\"_parent\"><img src=\"https://colab.research.google.com/assets/colab-badge.svg\" alt=\"Open In Colab\"/></a>"
      ]
    },
    {
      "cell_type": "markdown",
      "source": [
        "# Coding Homework #3\n",
        "\n",
        "**Instructions**\n",
        "\n",
        "1. Make a *Markdown Cell* that contains the following information:\n",
        "- Your name (small header)\n",
        "- The name of this class (italicized)\n",
        "- The date (bolded)\n",
        "\n",
        "2. Make a *Code Cell* that imports <code>numpy</code> as <code>np</code>, <code>matplotlib.pyplot</code> as <code>plt</code>, and <code>scipy.stats</code> as <code>stats</code>.\n",
        "\n",
        "3. Make a *Code Cell* that imports your <code>v_rest1.csv</code> and <code>v_rest2.csv</code> variables as <code>numpy</code> arrays called <code>v_rest1</code> and <code>v_rest2</code> respectively.\n",
        "\n",
        "4. Make a *Code Cell* that does the following:\n",
        "  \n",
        "  a. Finds the means of <code>v_rest1</code> and <code>v_rest2</code>.\n",
        "  \n",
        "  b. Performs a t-test to test the null hypothesis that the means of <code>v_rest1</code> and <code>v_rest2</code> come from different distributions.\n",
        "\n",
        "  c. Plots a histogram of <code>v_rest1</code> in one subplot, and a histogram of <code>v_rest2</code> in another subplot if the p-value of the t-test is > 0.05. You can make two subplots using the syntax <code>fig, ax = plt.subplots(1,1)</code>.\n",
        "\n",
        "  d. Labels the y-axis and x-axis of your histograms (recall that <code>ax.ylabel</code> and <code>ax.xlabel</code> are the methods that let you accomplish this).\n",
        "\n",
        "5. Make a *Code Cell* that defines a function called <code>vrestHist()</code>. This function should execute the code in step 4 when called. Remember to tell python that you want the function to show your plots when you call it!\n",
        "\n",
        "6. Make a *Code Cell* that calls <code>vrestHist()</code>.\n",
        "\n",
        "7. Make a *Code Cell* that does the following:\n",
        "\n",
        "    a. Loops through each column of <code>v_rest1</code> and <code>v_rest2</code> and makes a scatter plot with <code>v_rest1</code> on the x-axis and <code>v_rest2</code> on the y-axis. \n",
        "\n",
        "    b. Each iteration of your loop should plot a different point on the scatter plot. At the end of your loop, you should have only one scatter plot with number of data points equal to the length of <code>v_rest1</code> and <code>v_rest2</code>.\n",
        "\n",
        "    c. Your loop should plot a <font color = 'red'>red</font> dot if *both* values in <code>v_rest1</code> and <code>v_rest2</code> are greater than -60, a <font color = 'green'>green</font> dot if values in <code>v_rest1</code> are greater than -60, but values in <code>v_rest2</code> are less than -60, and a <font color = 'blue'>blue</font> dot if *both* values in <code>v_rest1</code> and <code>v_rest2</code> are less than -60. \n",
        "\n",
        "    d. Labels your y-axis and your x-axis (this code should be outside of your loop).\n",
        "\n",
        "8. Make a *Code Cell* that defines a function called <code>vrestScatter()</code>. This function should execute the code in step 7 when called. Remember to tell python that you want the function to show your plot when you call it!\n",
        "\n",
        "9. Save a copy of this notebook to your GitHub repo with the title \"coding_homework_3.ipynb\"."
      ],
      "metadata": {
        "id": "zbzMCJlMN3ph"
      }
    },
    {
      "cell_type": "markdown",
      "source": [
        "##Meghan Inglis##\n",
        "_Neural Data Analysis_\n",
        "\n",
        "__March 1, 2023__"
      ],
      "metadata": {
        "id": "eBokuRFSeEFb"
      }
    },
    {
      "cell_type": "code",
      "source": [
        "#Importing numy, matplotlib, and scipy\n",
        "import numpy as np\n",
        "import matplotlib.pyplot as plt\n",
        "import scipy.stats as stats"
      ],
      "metadata": {
        "id": "Ggvpi8xNeLBT"
      },
      "execution_count": 2,
      "outputs": []
    },
    {
      "cell_type": "code",
      "source": [
        "#Make a Code Cell that imports your v_rest1.csv file as numpy array called v_rest1\n",
        "url = 'https://docs.google.com/spreadsheets/d/e/2PACX-1vR4Vvbonf-G7YcgUA0i2OYdS6mUBpMlCV7cmiYRWWZsbbMgoHe2boJNPr_SnNGQAMkoYWmkKnj1AU1i/pub?gid=1202262583&single=true&output=csv'\n",
        "v_rest1 = np.loadtxt(url)\n",
        "v_rest1"
      ],
      "metadata": {
        "colab": {
          "base_uri": "https://localhost:8080/"
        },
        "id": "iUq9tR8oeXMd",
        "outputId": "94562a9f-b860-4793-9729-40895a5ec507"
      },
      "execution_count": 3,
      "outputs": [
        {
          "output_type": "execute_result",
          "data": {
            "text/plain": [
              "array([-76.26886368, -78.61490909, -68.16424769, -75.32285817,\n",
              "       -74.45781222, -68.39161246, -74.03092839, -70.11987972,\n",
              "       -73.67137527, -75.02154694, -74.73023415, -71.16996929,\n",
              "       -79.50984251])"
            ]
          },
          "metadata": {},
          "execution_count": 3
        }
      ]
    },
    {
      "cell_type": "code",
      "source": [
        "#Make a Code Cell that imports your v_rest2.csv file as numpy array called v_rest2\n",
        "url = 'https://docs.google.com/spreadsheets/d/e/2PACX-1vR-2cnSXYaFbNwVg-9NVbzMW5ZoaTFgZLbT0nywKctIoLChhSGDxQs5mzMe0NrNUlzkqQwTwmq-2A-r/pub?gid=1376355555&single=true&output=csv'\n",
        "v_rest2 = np.loadtxt(url)\n",
        "v_rest2"
      ],
      "metadata": {
        "colab": {
          "base_uri": "https://localhost:8080/"
        },
        "id": "lDTf1lztec23",
        "outputId": "876f3574-bc77-41d4-9d72-f8f30dde17bc"
      },
      "execution_count": 4,
      "outputs": [
        {
          "output_type": "execute_result",
          "data": {
            "text/plain": [
              "array([-74.42471137, -69.29408646, -73.39719322, -63.17958903,\n",
              "       -70.05915298, -63.62581277, -59.94950104, -78.94838356,\n",
              "       -71.66541227, -75.53541107, -62.60052079, -68.79848938,\n",
              "       -72.4118042 ])"
            ]
          },
          "metadata": {},
          "execution_count": 4
        }
      ]
    },
    {
      "cell_type": "code",
      "source": [
        "#Finding means, performing a t-test, making a histogram, labeling axis\n",
        "\n",
        "v_rest_mean_1 = np.mean(v_rest1)\n",
        "print(v_rest_mean_1)\n",
        "\n",
        "v_rest_mean_2 = np.mean(v_rest2)\n",
        "print(v_rest_mean_2)\n",
        "\n",
        "t_test = stats.ttest_ind(v_rest1, v_rest2)\n",
        "print(t_test)\n",
        "\n",
        "\n",
        "v_rest = np.array([v_rest1,v_rest2])\n",
        "\n",
        "fig, ax = plt.subplots(1,2,figsize=(15,5))\n",
        "ax[0].hist(v_rest1)\n",
        "ax[0].set_ylabel('count')\n",
        "ax[0].set_xlabel('resting membrane potential')\n",
        "ax[1].hist(v_rest2)\n",
        "ax[1].set_ylabel('count')\n",
        "ax[1].set_xlabel('resting membrane potential')\n",
        "plt.ylabel('count')\n",
        "plt.show()\n",
        "\n"
      ],
      "metadata": {
        "colab": {
          "base_uri": "https://localhost:8080/",
          "height": 388
        },
        "id": "-3a-anR4evWP",
        "outputId": "46875e03-ae5d-467e-e082-9402d4779f3c"
      },
      "execution_count": 5,
      "outputs": [
        {
          "output_type": "stream",
          "name": "stdout",
          "text": [
            "-73.80569842923077\n",
            "-69.53000524153846\n",
            "Ttest_indResult(statistic=-2.29611195449735, pvalue=0.03070512313772225)\n"
          ]
        },
        {
          "output_type": "display_data",
          "data": {
            "text/plain": [
              "<Figure size 1080x360 with 2 Axes>"
            ],
            "image/png": "[encoded data removed]"
          },
          "metadata": {
            "needs_background": "light"
          }
        }
      ]
    },
    {
      "cell_type": "code",
      "source": [
        "#Making step 4 into a function\n",
        "def vrestHist():\n",
        "    # First, write docstring:\n",
        "    \"\"\"\n",
        "    This is a function that will streamline finding a mean, performing a t-test, making histograms, and labeling axes.\n",
        "    \"\"\"\n",
        "    # Your code here!\n",
        "\n",
        "    v_rest_mean_1 = np.mean(v_rest1)\n",
        "    print(v_rest_mean_1)\n",
        "\n",
        "    v_rest_mean_2 = np.mean(v_rest2)\n",
        "    print(v_rest_mean_2)\n",
        "\n",
        "    t_test = stats.ttest_ind(v_rest1, v_rest2)\n",
        "    print(t_test)\n",
        "\n",
        "\n",
        "    v_rest = np.array([v_rest1,v_rest2])\n",
        "\n",
        "    fig, ax = plt.subplots(1,2,figsize=(15,5))\n",
        "    ax[0].hist(v_rest1)\n",
        "    ax[0].set_ylabel('count')\n",
        "    ax[0].set_xlabel('resting membrane potential')\n",
        "    ax[1].hist(v_rest2)\n",
        "    ax[1].set_ylabel('count')\n",
        "    ax[1].set_xlabel('resting membrane potential')\n",
        "    plt.ylabel('count')\n",
        "\n",
        "plt.show()    "
      ],
      "metadata": {
        "id": "lyHGI6Mom04T"
      },
      "execution_count": 6,
      "outputs": []
    },
    {
      "cell_type": "code",
      "source": [
        "#Calling new function\n",
        "vrestHist()"
      ],
      "metadata": {
        "colab": {
          "base_uri": "https://localhost:8080/",
          "height": 388
        },
        "id": "kD6TfHZhn78W",
        "outputId": "a22dc6c7-87db-4f8e-f5e8-258cb2e125b9"
      },
      "execution_count": 7,
      "outputs": [
        {
          "output_type": "stream",
          "name": "stdout",
          "text": [
            "-73.80569842923077\n",
            "-69.53000524153846\n",
            "Ttest_indResult(statistic=-2.29611195449735, pvalue=0.03070512313772225)\n"
          ]
        },
        {
          "output_type": "display_data",
          "data": {
            "text/plain": [
              "<Figure size 1080x360 with 2 Axes>"
            ],
            "image/png": "[encoded data removed]"
          },
          "metadata": {
            "needs_background": "light"
          }
        }
      ]
    },
    {
      "cell_type": "code",
      "source": [
        "#Making a loop through v_rest1 and v_rest2 and make a scatter plot with 1 on the x-axis and 2 on the y-axis\n",
        "\n",
        "v_rest1_len = len(v_rest1)\n",
        "v_rest2_len = len(v_rest2)\n",
        "\n",
        "for i in range(v_rest1_len):\n",
        "  if v_rest1[i] > -60 and v_rest2[i] > -60:\n",
        "    plt.scatter(v_rest1[i],v_rest2[i],color = \"red\")\n",
        "  elif v_rest1[i] > -60 and v_rest2[i] < -60:\n",
        "    plt.scatter(v_rest1[i],v_rest2[i],color = \"green\")\n",
        "  elif v_rest1[i] < -60 and v_rest2[i] < -60:\n",
        "    plt.scatter(v_rest1[i],v_rest2[i],color = \"blue\")\n",
        "  elif v_rest1[i] < -60 and v_rest2[i] > -60:\n",
        "    plt.scatter(v_rest1[i],v_rest2[i],color = \"hotpink\")\n",
        "\n",
        "plt.xlabel('Resting Membrane Potential of v_rest1')\n",
        "plt.ylabel('Resting Membrane Potential of v_rest2')\n"
      ],
      "metadata": {
        "colab": {
          "base_uri": "https://localhost:8080/",
          "height": 298
        },
        "id": "3el-6BcWoZW6",
        "outputId": "91e865c2-3888-4c8a-a8e5-80aa8b3241f4"
      },
      "execution_count": 9,
      "outputs": [
        {
          "output_type": "execute_result",
          "data": {
            "text/plain": [
              "Text(0, 0.5, 'Resting Membrane Potential of v_rest2')"
            ]
          },
          "metadata": {},
          "execution_count": 9
        },
        {
          "output_type": "display_data",
          "data": {
            "text/plain": [
              "<Figure size 432x288 with 1 Axes>"
            ],
            "image/png": "[encoded data removed]"
          },
          "metadata": {
            "needs_background": "light"
          }
        }
      ]
    },
    {
      "cell_type": "code",
      "source": [
        "#Making step 7 into a function\n",
        "def vrestScatter():\n",
        "    # First, write docstring:\n",
        "    \"\"\"\n",
        "    This is a function that will make a loop through v_rest1 and v_rest2 and make a scatter plot with v_rest1 on the x-axis and v_rest2 on the y-axis.\n",
        "    \"\"\"\n",
        "    # Your code here!\n",
        "    v_rest1_len = len(v_rest1)\n",
        "    v_rest2_len = len(v_rest2)\n",
        "\n",
        "    for i in range(v_rest1_len):\n",
        "      if v_rest1[i] > -60 and v_rest2[i] > -60:\n",
        "        plt.scatter(v_rest1[i],v_rest2[i],color = \"red\")\n",
        "      elif v_rest1[i] > -60 and v_rest2[i] < -60:\n",
        "        plt.scatter(v_rest1[i],v_rest2[i],color = \"green\")\n",
        "      elif v_rest1[i] < -60 and v_rest2[i] < -60:\n",
        "        plt.scatter(v_rest1[i],v_rest2[i],color = \"blue\")\n",
        "      elif v_rest1[i] < -60 and v_rest2[i] > -60:\n",
        "        plt.scatter(v_rest1[i],v_rest2[i],color = \"hotpink\")\n",
        "\n",
        "    plt.xlabel('Resting Membrane Potential of v_rest1')\n",
        "    plt.ylabel('Resting Membrane Potential of v_rest2')\n",
        "\n",
        "\n",
        "    \n",
        "\n",
        "plt.show()    "
      ],
      "metadata": {
        "id": "gA6jSK8ttomX"
      },
      "execution_count": 12,
      "outputs": []
    },
    {
      "cell_type": "code",
      "source": [
        "#Calling the new function to test it\n",
        "vrestScatter() "
      ],
      "metadata": {
        "colab": {
          "base_uri": "https://localhost:8080/",
          "height": 280
        },
        "id": "2TRHNV0CvIFz",
        "outputId": "8f3d6658-dfe8-4b2b-cf76-3b2ee6553068"
      },
      "execution_count": 14,
      "outputs": [
        {
          "output_type": "display_data",
          "data": {
            "text/plain": [
              "<Figure size 432x288 with 1 Axes>"
            ],
            "image/png": "[encoded data removed]"
          },
          "metadata": {
            "needs_background": "light"
          }
        }
      ]
    }
  ]
}